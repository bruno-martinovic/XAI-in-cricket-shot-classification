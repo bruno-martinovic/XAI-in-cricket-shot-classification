{
 "cells": [
  {
   "cell_type": "markdown",
   "metadata": {},
   "source": [
    "# Cricket Shot Classification Pipeline with XAI\n",
    "This notebook covers:\n",
    "- Training a Random Forest classifier on keypoint data\n",
    "- Applying SHAP for explainability\n",
    "- Visualizing keypoint contributions"
   ]
  },
  {
   "cell_type": "code",
   "execution_count": 4,
   "metadata": {},
   "outputs": [],
   "source": [
    "#Install required packages\n",
    "!pip install mediapipe opencv-python scikit-learn shap matplotlib pandas --quiet"
   ]
  },
  {
   "cell_type": "code",
   "execution_count": null,
   "metadata": {
    "scrolled": true
   },
   "outputs": [],
   "source": [
    "# Import libraries\n",
    "import pandas as pd\n",
    "from sklearn.model_selection import train_test_split\n",
    "from sklearn.ensemble import RandomForestClassifier\n",
    "from sklearn.metrics import classification_report, accuracy_score\n",
    "import matplotlib.pyplot as plt\n",
    "import seaborn as sns\n",
    "import numpy as np\n",
    "\n",
    "# Load the dataset\n",
    "df = pd.read_csv(\"keypoints_per_frame.csv\")\n",
    "print(\"Dataset shape:\", df.shape)\n",
    "df.head()\n",
    "\n",
    "# Prepare features and labels\n",
    "X = df.drop(columns=[\"label\", \"video\", \"frame\"])\n",
    "y = df[\"label\"]\n",
    "\n",
    "# Split the dataset\n",
    "X_train, X_test, y_train, y_test = train_test_split(\n",
    "    X, y, test_size=0.2, random_state=42\n",
    ")\n",
    "\n",
    "# Train Random Forest\n",
    "rf = RandomForestClassifier(random_state=42)\n",
    "rf.fit(X_train, y_train)\n",
    "\n",
    "\n",
    "\n",
    "# Make predictions\n",
    "y_pred = rf.predict(X_test)\n",
    "\n",
    "# Evaluate\n",
    "accuracy = accuracy_score(y_test, y_pred)\n",
    "print(f\"Accuracy: {accuracy:.2f}\")\n",
    "print(\"\\nClassification Report:\\n\", classification_report(y_test, y_pred))\n",
    "\n",
    "# Feature Importance Visualization\n",
    "importances = rf.feature_importances_\n",
    "indices = importances.argsort()[::-1]\n",
    "\n",
    "keypoints = [\n",
    "    \"Nose\", \"LeftEyeInner\", \"LeftEye\", \"LeftEyeOuter\", \"RightEyeInner\", \"RightEye\",\n",
    "    \"RightEyeOuter\", \"LeftEar\", \"RightEar\", \"LeftShoulder\", \"RightShoulder\",\n",
    "    \"LeftElbow\", \"RightElbow\", \"LeftWrist\", \"RightWrist\", \"LeftPinky\", \"RightPinky\"\n",
    "]\n",
    "\n",
    "coords = [\"x\", \"y\", \"z\"]\n",
    "\n",
    "# Generate full feature name list\n",
    "feature_names = [f\"{kp}_{c}\" for kp in keypoints for c in coords]\n",
    "\n",
    "plt.figure(figsize=(12, 30))\n",
    "sns.barplot(x=importances[indices[:51]], y=[feature_names[i] for i in indices[:51]])\n",
    "plt.title(\"Feature Importances\")\n",
    "plt.tight_layout()\n",
    "plt.show()\n",
    "\n",
    "# Define actual class names\n",
    "class_names = {\n",
    "    0: \"Bowled\",\n",
    "    1: \"Cover Drive\",\n",
    "    2: \"Defence\",\n",
    "    3: \"Pull Shot\",\n",
    "    4: \"Reverse Sweep\"\n",
    "}\n",
    "\n"
   ]
  },
  {
   "cell_type": "markdown",
   "metadata": {},
   "source": [
    "## DISPLAY FEATURE IMPORTANCE AND OVERALL SHAP"
   ]
  },
  {
   "cell_type": "code",
   "execution_count": null,
   "metadata": {},
   "outputs": [],
   "source": [
    "# Import SHAP and initialize explainer\n",
    "import shap\n",
    "import numpy as np\n",
    "import matplotlib.pyplot as plt\n",
    "\n",
    "# Initialize JavaScript visualizer\n",
    "shap.initjs()\n",
    "\n",
    "# Create SHAP explainer\n",
    "explainer = shap.TreeExplainer(rf)\n",
    "shap_values = explainer.shap_values(X_test)\n",
    "print(\"Shap calculated\")\n",
    "\n",
    "keypoints = [\n",
    "    \"Nose\", \"LeftEyeInner\", \"LeftEye\", \"LeftEyeOuter\", \"RightEyeInner\", \"RightEye\",\n",
    "    \"RightEyeOuter\", \"LeftEar\", \"RightEar\", \"LeftShoulder\", \"RightShoulder\",\n",
    "    \"LeftElbow\", \"RightElbow\", \"LeftWrist\", \"RightWrist\", \"LeftPinky\", \"RightPinky\"\n",
    "]\n",
    "\n",
    "coords = [\"x\", \"y\", \"z\"]\n",
    "\n",
    "# Generate full feature name list\n",
    "feature_names = [f\"{kp}_{c}\" for kp in keypoints for c in coords]\n",
    "\n",
    "# Assign names to feature columns\n",
    "X.columns = feature_names\n",
    "print(len(shap_values))\n",
    "\n",
    "\n",
    "\n",
    "# Create and save the bar plot\n",
    "shap.summary_plot(shap_values, X_test, feature_names=feature_names, plot_type=\"bar\", max_display=51, show=False)\n",
    "plt.tight_layout()\n",
    "plt.savefig(\"shap_summary_bar.png\", dpi=300)\n",
    "plt.close()\n",
    "\n",
    "# Global explanation - SHAP summary\n",
    "shap.summary_plot(shap_values, X_test, max_display=51)\n",
    "\n",
    "\n",
    "\n"
   ]
  },
  {
   "cell_type": "markdown",
   "metadata": {},
   "source": [
    "## DISPLAY PER CLASS SHAP"
   ]
  },
  {
   "cell_type": "code",
   "execution_count": null,
   "metadata": {
    "scrolled": true
   },
   "outputs": [],
   "source": [
    "X_test.columns = feature_names\n",
    "print(\"shap_values shape:\", np.array(shap_values).shape)\n",
    "print(\"X_test shape:\", X_test.shape)\n",
    "# Loop over each class\n",
    "for class_idx, class_name in class_names.items():\n",
    "    print(f\"Generating SHAP summary for class: {class_name}\")\n",
    "    \n",
    "    # Create and save the bar summary plot\n",
    "    shap.summary_plot(\n",
    "        shap_values[:,:,class_idx], X_test,\n",
    "        feature_names=feature_names,\n",
    "        plot_type=\"bar\",\n",
    "        max_display=51,\n",
    "        show=True\n",
    "    )\n",
    "    plt.title(f\"SHAP Summary (Bar) - {class_name}\")\n",
    "    plt.tight_layout()\n",
    "    plt.close()\n",
    "\n",
    "    # Create and save the dot summary plot\n",
    "    shap.summary_plot(\n",
    "        shap_values[:,:, class_idx], X_test,\n",
    "        feature_names=feature_names,\n",
    "        max_display=51,\n",
    "        show=True\n",
    "    )\n",
    "    plt.title(f\"SHAP Summary (Dot) - {class_name}\")\n",
    "    plt.tight_layout()\n",
    "    plt.close()\n",
    "\n",
    "plt.show()\n"
   ]
  }
 ],
 "metadata": {
  "kernelspec": {
   "display_name": "Python 3 (ipykernel)",
   "language": "python",
   "name": "python3"
  },
  "language_info": {
   "codemirror_mode": {
    "name": "ipython",
    "version": 3
   },
   "file_extension": ".py",
   "mimetype": "text/x-python",
   "name": "python",
   "nbconvert_exporter": "python",
   "pygments_lexer": "ipython3",
   "version": "3.12.7"
  }
 },
 "nbformat": 4,
 "nbformat_minor": 4
}
